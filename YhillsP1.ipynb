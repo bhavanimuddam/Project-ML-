{
  "nbformat": 4,
  "nbformat_minor": 0,
  "metadata": {
    "colab": {
      "provenance": []
    },
    "kernelspec": {
      "name": "python3",
      "display_name": "Python 3"
    },
    "language_info": {
      "name": "python"
    }
  },
  "cells": [
    {
      "cell_type": "code",
      "source": [
        "# This Python 3 environment comes with many helpful analytics libraries installed\n",
        "# It is defined by the kaggle/python Docker image: https://github.com/kaggle/docker-python\n",
        "# For example, here's several helpful packages to load\n",
        "\n",
        "import numpy as np # linear algebra\n",
        "import pandas as pd # data processing, CSV file I/O (e.g. pd.read_csv)\n",
        "\n",
        "# Input data files are available in the read-only \"../input/\" directory\n",
        "# For example, running this (by clicking run or pressing Shift+Enter) will list all files under the input directory\n",
        "\n",
        "import os\n",
        "for dirname, _, filenames in os.walk('/kaggle/input'):\n",
        "    for filename in filenames:\n",
        "        print(os.path.join(dirname, filename))\n"
      ],
      "metadata": {
        "id": "ZiZkPumky9Wl"
      },
      "execution_count": null,
      "outputs": []
    },
    {
      "cell_type": "code",
      "source": [
        "import pandas as pd\n",
        "import numpy as np\n",
        "import random\n",
        "from sklearn.model_selection import train_test_split\n",
        "from sklearn.metrics import mean_squared_error\n",
        "from sklearn.linear_model import LinearRegression"
      ],
      "metadata": {
        "id": "jHfw0QXL8O_4"
      },
      "execution_count": null,
      "outputs": []
    },
    {
      "cell_type": "code",
      "source": [
        "#Loading the train_df\n",
        "#The training data path\n",
        "train_path = 'https://raw.githubusercontent.com/Premalatha-success/Datasets/main/TaxiFare.csv'\n",
        "\n",
        "#Defining constants\n",
        "sample_fraction = 0.01\n",
        "random.seed(92)\n",
        "\n",
        "#Defining the function to randomly sample 1 percent of the data\n",
        "def skip_row(idx):\n",
        "    if idx == 0:\n",
        "        return False\n",
        "    return random.random() > sample_fraction\n",
        "\n",
        "#Loading the df\n",
        "df = pd.read_csv(train_path, parse_dates = ['date_time_of_pickup'], skiprows = skip_row)"
      ],
      "metadata": {
        "id": "CWkP214U8RyT"
      },
      "execution_count": null,
      "outputs": []
    },
    {
      "cell_type": "code",
      "source": [
        "df.head()"
      ],
      "metadata": {
        "colab": {
          "base_uri": "https://localhost:8080/",
          "height": 206
        },
        "id": "Ex0OJSDr8aRO",
        "outputId": "54623f8b-6298-4784-df21-e858cf6a5303"
      },
      "execution_count": null,
      "outputs": [
        {
          "output_type": "execute_result",
          "data": {
            "text/plain": [
              "  unique_id  amount       date_time_of_pickup  longitude_of_pickup  \\\n",
              "0   42:49.0     9.8 2009-03-02 20:42:49+00:00           -73.972673   \n",
              "1   19:05.0    11.5 2015-04-12 10:19:05+00:00           -73.979279   \n",
              "2   33:14.0     9.5 2012-11-06 11:33:14+00:00           -73.972195   \n",
              "3   47:00.0     6.5 2012-10-06 15:47:00+00:00           -73.982130   \n",
              "4   33:18.0    16.5 2015-05-31 07:33:18+00:00           -73.996986   \n",
              "\n",
              "   latitude_of_pickup  longitude_of_dropoff  latitude_of_dropoff  \\\n",
              "0           40.759186            -73.969897            40.791367   \n",
              "1           40.723438            -74.004608            40.746948   \n",
              "2           40.765883            -73.967942            40.761951   \n",
              "3           40.774807            -73.973583            40.789645   \n",
              "4           40.755428            -73.953194            40.802101   \n",
              "\n",
              "   no_of_passenger  \n",
              "0                1  \n",
              "1                6  \n",
              "2                1  \n",
              "3                5  \n",
              "4                3  "
            ],
            "text/html": [
              "\n",
              "  <div id=\"df-a3df4577-b642-4f86-8536-7ea51cc284fa\">\n",
              "    <div class=\"colab-df-container\">\n",
              "      <div>\n",
              "<style scoped>\n",
              "    .dataframe tbody tr th:only-of-type {\n",
              "        vertical-align: middle;\n",
              "    }\n",
              "\n",
              "    .dataframe tbody tr th {\n",
              "        vertical-align: top;\n",
              "    }\n",
              "\n",
              "    .dataframe thead th {\n",
              "        text-align: right;\n",
              "    }\n",
              "</style>\n",
              "<table border=\"1\" class=\"dataframe\">\n",
              "  <thead>\n",
              "    <tr style=\"text-align: right;\">\n",
              "      <th></th>\n",
              "      <th>unique_id</th>\n",
              "      <th>amount</th>\n",
              "      <th>date_time_of_pickup</th>\n",
              "      <th>longitude_of_pickup</th>\n",
              "      <th>latitude_of_pickup</th>\n",
              "      <th>longitude_of_dropoff</th>\n",
              "      <th>latitude_of_dropoff</th>\n",
              "      <th>no_of_passenger</th>\n",
              "    </tr>\n",
              "  </thead>\n",
              "  <tbody>\n",
              "    <tr>\n",
              "      <th>0</th>\n",
              "      <td>42:49.0</td>\n",
              "      <td>9.8</td>\n",
              "      <td>2009-03-02 20:42:49+00:00</td>\n",
              "      <td>-73.972673</td>\n",
              "      <td>40.759186</td>\n",
              "      <td>-73.969897</td>\n",
              "      <td>40.791367</td>\n",
              "      <td>1</td>\n",
              "    </tr>\n",
              "    <tr>\n",
              "      <th>1</th>\n",
              "      <td>19:05.0</td>\n",
              "      <td>11.5</td>\n",
              "      <td>2015-04-12 10:19:05+00:00</td>\n",
              "      <td>-73.979279</td>\n",
              "      <td>40.723438</td>\n",
              "      <td>-74.004608</td>\n",
              "      <td>40.746948</td>\n",
              "      <td>6</td>\n",
              "    </tr>\n",
              "    <tr>\n",
              "      <th>2</th>\n",
              "      <td>33:14.0</td>\n",
              "      <td>9.5</td>\n",
              "      <td>2012-11-06 11:33:14+00:00</td>\n",
              "      <td>-73.972195</td>\n",
              "      <td>40.765883</td>\n",
              "      <td>-73.967942</td>\n",
              "      <td>40.761951</td>\n",
              "      <td>1</td>\n",
              "    </tr>\n",
              "    <tr>\n",
              "      <th>3</th>\n",
              "      <td>47:00.0</td>\n",
              "      <td>6.5</td>\n",
              "      <td>2012-10-06 15:47:00+00:00</td>\n",
              "      <td>-73.982130</td>\n",
              "      <td>40.774807</td>\n",
              "      <td>-73.973583</td>\n",
              "      <td>40.789645</td>\n",
              "      <td>5</td>\n",
              "    </tr>\n",
              "    <tr>\n",
              "      <th>4</th>\n",
              "      <td>33:18.0</td>\n",
              "      <td>16.5</td>\n",
              "      <td>2015-05-31 07:33:18+00:00</td>\n",
              "      <td>-73.996986</td>\n",
              "      <td>40.755428</td>\n",
              "      <td>-73.953194</td>\n",
              "      <td>40.802101</td>\n",
              "      <td>3</td>\n",
              "    </tr>\n",
              "  </tbody>\n",
              "</table>\n",
              "</div>\n",
              "      <button class=\"colab-df-convert\" onclick=\"convertToInteractive('df-a3df4577-b642-4f86-8536-7ea51cc284fa')\"\n",
              "              title=\"Convert this dataframe to an interactive table.\"\n",
              "              style=\"display:none;\">\n",
              "        \n",
              "  <svg xmlns=\"http://www.w3.org/2000/svg\" height=\"24px\"viewBox=\"0 0 24 24\"\n",
              "       width=\"24px\">\n",
              "    <path d=\"M0 0h24v24H0V0z\" fill=\"none\"/>\n",
              "    <path d=\"M18.56 5.44l.94 2.06.94-2.06 2.06-.94-2.06-.94-.94-2.06-.94 2.06-2.06.94zm-11 1L8.5 8.5l.94-2.06 2.06-.94-2.06-.94L8.5 2.5l-.94 2.06-2.06.94zm10 10l.94 2.06.94-2.06 2.06-.94-2.06-.94-.94-2.06-.94 2.06-2.06.94z\"/><path d=\"M17.41 7.96l-1.37-1.37c-.4-.4-.92-.59-1.43-.59-.52 0-1.04.2-1.43.59L10.3 9.45l-7.72 7.72c-.78.78-.78 2.05 0 2.83L4 21.41c.39.39.9.59 1.41.59.51 0 1.02-.2 1.41-.59l7.78-7.78 2.81-2.81c.8-.78.8-2.07 0-2.86zM5.41 20L4 18.59l7.72-7.72 1.47 1.35L5.41 20z\"/>\n",
              "  </svg>\n",
              "      </button>\n",
              "      \n",
              "  <style>\n",
              "    .colab-df-container {\n",
              "      display:flex;\n",
              "      flex-wrap:wrap;\n",
              "      gap: 12px;\n",
              "    }\n",
              "\n",
              "    .colab-df-convert {\n",
              "      background-color: #E8F0FE;\n",
              "      border: none;\n",
              "      border-radius: 50%;\n",
              "      cursor: pointer;\n",
              "      display: none;\n",
              "      fill: #1967D2;\n",
              "      height: 32px;\n",
              "      padding: 0 0 0 0;\n",
              "      width: 32px;\n",
              "    }\n",
              "\n",
              "    .colab-df-convert:hover {\n",
              "      background-color: #E2EBFA;\n",
              "      box-shadow: 0px 1px 2px rgba(60, 64, 67, 0.3), 0px 1px 3px 1px rgba(60, 64, 67, 0.15);\n",
              "      fill: #174EA6;\n",
              "    }\n",
              "\n",
              "    [theme=dark] .colab-df-convert {\n",
              "      background-color: #3B4455;\n",
              "      fill: #D2E3FC;\n",
              "    }\n",
              "\n",
              "    [theme=dark] .colab-df-convert:hover {\n",
              "      background-color: #434B5C;\n",
              "      box-shadow: 0px 1px 3px 1px rgba(0, 0, 0, 0.15);\n",
              "      filter: drop-shadow(0px 1px 2px rgba(0, 0, 0, 0.3));\n",
              "      fill: #FFFFFF;\n",
              "    }\n",
              "  </style>\n",
              "\n",
              "      <script>\n",
              "        const buttonEl =\n",
              "          document.querySelector('#df-a3df4577-b642-4f86-8536-7ea51cc284fa button.colab-df-convert');\n",
              "        buttonEl.style.display =\n",
              "          google.colab.kernel.accessAllowed ? 'block' : 'none';\n",
              "\n",
              "        async function convertToInteractive(key) {\n",
              "          const element = document.querySelector('#df-a3df4577-b642-4f86-8536-7ea51cc284fa');\n",
              "          const dataTable =\n",
              "            await google.colab.kernel.invokeFunction('convertToInteractive',\n",
              "                                                     [key], {});\n",
              "          if (!dataTable) return;\n",
              "\n",
              "          const docLinkHtml = 'Like what you see? Visit the ' +\n",
              "            '<a target=\"_blank\" href=https://colab.research.google.com/notebooks/data_table.ipynb>data table notebook</a>'\n",
              "            + ' to learn more about interactive tables.';\n",
              "          element.innerHTML = '';\n",
              "          dataTable['output_type'] = 'display_data';\n",
              "          await google.colab.output.renderOutput(dataTable, element);\n",
              "          const docLink = document.createElement('div');\n",
              "          docLink.innerHTML = docLinkHtml;\n",
              "          element.appendChild(docLink);\n",
              "        }\n",
              "      </script>\n",
              "    </div>\n",
              "  </div>\n",
              "  "
            ]
          },
          "metadata": {},
          "execution_count": 13
        }
      ]
    },
    {
      "cell_type": "code",
      "source": [
        "#Loading the test_df\n",
        "#The test data path\n",
        "test_path = 'https://raw.githubusercontent.com/sravani999999/taxi-fare-csv/main/test.csv'\n",
        "\n",
        "#Loading the df\n",
        "test_df = pd.read_csv(test_path, parse_dates = ['date_time_of_pickup'],)"
      ],
      "metadata": {
        "id": "QZ1ovDTt8ol6"
      },
      "execution_count": null,
      "outputs": []
    },
    {
      "cell_type": "code",
      "source": [
        "#Viewing info about the training data\n",
        "df.info()"
      ],
      "metadata": {
        "colab": {
          "base_uri": "https://localhost:8080/"
        },
        "id": "J0s9ECf58vxV",
        "outputId": "40754db7-133c-41fb-ad63-a57f83062bce"
      },
      "execution_count": null,
      "outputs": [
        {
          "output_type": "stream",
          "name": "stdout",
          "text": [
            "<class 'pandas.core.frame.DataFrame'>\n",
            "RangeIndex: 506 entries, 0 to 505\n",
            "Data columns (total 8 columns):\n",
            " #   Column                Non-Null Count  Dtype              \n",
            "---  ------                --------------  -----              \n",
            " 0   unique_id             506 non-null    object             \n",
            " 1   amount                506 non-null    float64            \n",
            " 2   date_time_of_pickup   506 non-null    datetime64[ns, UTC]\n",
            " 3   longitude_of_pickup   506 non-null    float64            \n",
            " 4   latitude_of_pickup    506 non-null    float64            \n",
            " 5   longitude_of_dropoff  506 non-null    float64            \n",
            " 6   latitude_of_dropoff   506 non-null    float64            \n",
            " 7   no_of_passenger       506 non-null    int64              \n",
            "dtypes: datetime64[ns, UTC](1), float64(5), int64(1), object(1)\n",
            "memory usage: 31.8+ KB\n"
          ]
        }
      ]
    },
    {
      "cell_type": "code",
      "source": [
        "#Statististical summary of the training datset\n",
        "df.describe()"
      ],
      "metadata": {
        "colab": {
          "base_uri": "https://localhost:8080/",
          "height": 300
        },
        "id": "IdJbNZ0_8zdY",
        "outputId": "5ed66b83-cb17-4d80-d670-afe1c38e0f72"
      },
      "execution_count": null,
      "outputs": [
        {
          "output_type": "execute_result",
          "data": {
            "text/plain": [
              "          amount  longitude_of_pickup  latitude_of_pickup  \\\n",
              "count  506.00000           506.000000          506.000000   \n",
              "mean    10.92834           -72.805135           40.108897   \n",
              "std     10.50899             9.236903            5.088683   \n",
              "min      2.50000           -74.027978            0.000000   \n",
              "25%      6.00000           -73.991434           40.739385   \n",
              "50%      8.10000           -73.981695           40.755563   \n",
              "75%     11.50000           -73.967273           40.768157   \n",
              "max    143.00000             0.000000           40.827673   \n",
              "\n",
              "       longitude_of_dropoff  latitude_of_dropoff  no_of_passenger  \n",
              "count            506.000000           506.000000       506.000000  \n",
              "mean             -72.656774            40.027111         1.620553  \n",
              "std                9.787082             5.391785         1.217973  \n",
              "min              -74.177225             0.000000         0.000000  \n",
              "25%              -73.990350            40.735169         1.000000  \n",
              "50%              -73.978803            40.755624         1.000000  \n",
              "75%              -73.963257            40.768767         2.000000  \n",
              "max                0.000000            40.851849         6.000000  "
            ],
            "text/html": [
              "\n",
              "  <div id=\"df-ade8b77b-250b-4c6a-b8b9-3ee4d3c29dbb\">\n",
              "    <div class=\"colab-df-container\">\n",
              "      <div>\n",
              "<style scoped>\n",
              "    .dataframe tbody tr th:only-of-type {\n",
              "        vertical-align: middle;\n",
              "    }\n",
              "\n",
              "    .dataframe tbody tr th {\n",
              "        vertical-align: top;\n",
              "    }\n",
              "\n",
              "    .dataframe thead th {\n",
              "        text-align: right;\n",
              "    }\n",
              "</style>\n",
              "<table border=\"1\" class=\"dataframe\">\n",
              "  <thead>\n",
              "    <tr style=\"text-align: right;\">\n",
              "      <th></th>\n",
              "      <th>amount</th>\n",
              "      <th>longitude_of_pickup</th>\n",
              "      <th>latitude_of_pickup</th>\n",
              "      <th>longitude_of_dropoff</th>\n",
              "      <th>latitude_of_dropoff</th>\n",
              "      <th>no_of_passenger</th>\n",
              "    </tr>\n",
              "  </thead>\n",
              "  <tbody>\n",
              "    <tr>\n",
              "      <th>count</th>\n",
              "      <td>506.00000</td>\n",
              "      <td>506.000000</td>\n",
              "      <td>506.000000</td>\n",
              "      <td>506.000000</td>\n",
              "      <td>506.000000</td>\n",
              "      <td>506.000000</td>\n",
              "    </tr>\n",
              "    <tr>\n",
              "      <th>mean</th>\n",
              "      <td>10.92834</td>\n",
              "      <td>-72.805135</td>\n",
              "      <td>40.108897</td>\n",
              "      <td>-72.656774</td>\n",
              "      <td>40.027111</td>\n",
              "      <td>1.620553</td>\n",
              "    </tr>\n",
              "    <tr>\n",
              "      <th>std</th>\n",
              "      <td>10.50899</td>\n",
              "      <td>9.236903</td>\n",
              "      <td>5.088683</td>\n",
              "      <td>9.787082</td>\n",
              "      <td>5.391785</td>\n",
              "      <td>1.217973</td>\n",
              "    </tr>\n",
              "    <tr>\n",
              "      <th>min</th>\n",
              "      <td>2.50000</td>\n",
              "      <td>-74.027978</td>\n",
              "      <td>0.000000</td>\n",
              "      <td>-74.177225</td>\n",
              "      <td>0.000000</td>\n",
              "      <td>0.000000</td>\n",
              "    </tr>\n",
              "    <tr>\n",
              "      <th>25%</th>\n",
              "      <td>6.00000</td>\n",
              "      <td>-73.991434</td>\n",
              "      <td>40.739385</td>\n",
              "      <td>-73.990350</td>\n",
              "      <td>40.735169</td>\n",
              "      <td>1.000000</td>\n",
              "    </tr>\n",
              "    <tr>\n",
              "      <th>50%</th>\n",
              "      <td>8.10000</td>\n",
              "      <td>-73.981695</td>\n",
              "      <td>40.755563</td>\n",
              "      <td>-73.978803</td>\n",
              "      <td>40.755624</td>\n",
              "      <td>1.000000</td>\n",
              "    </tr>\n",
              "    <tr>\n",
              "      <th>75%</th>\n",
              "      <td>11.50000</td>\n",
              "      <td>-73.967273</td>\n",
              "      <td>40.768157</td>\n",
              "      <td>-73.963257</td>\n",
              "      <td>40.768767</td>\n",
              "      <td>2.000000</td>\n",
              "    </tr>\n",
              "    <tr>\n",
              "      <th>max</th>\n",
              "      <td>143.00000</td>\n",
              "      <td>0.000000</td>\n",
              "      <td>40.827673</td>\n",
              "      <td>0.000000</td>\n",
              "      <td>40.851849</td>\n",
              "      <td>6.000000</td>\n",
              "    </tr>\n",
              "  </tbody>\n",
              "</table>\n",
              "</div>\n",
              "      <button class=\"colab-df-convert\" onclick=\"convertToInteractive('df-ade8b77b-250b-4c6a-b8b9-3ee4d3c29dbb')\"\n",
              "              title=\"Convert this dataframe to an interactive table.\"\n",
              "              style=\"display:none;\">\n",
              "        \n",
              "  <svg xmlns=\"http://www.w3.org/2000/svg\" height=\"24px\"viewBox=\"0 0 24 24\"\n",
              "       width=\"24px\">\n",
              "    <path d=\"M0 0h24v24H0V0z\" fill=\"none\"/>\n",
              "    <path d=\"M18.56 5.44l.94 2.06.94-2.06 2.06-.94-2.06-.94-.94-2.06-.94 2.06-2.06.94zm-11 1L8.5 8.5l.94-2.06 2.06-.94-2.06-.94L8.5 2.5l-.94 2.06-2.06.94zm10 10l.94 2.06.94-2.06 2.06-.94-2.06-.94-.94-2.06-.94 2.06-2.06.94z\"/><path d=\"M17.41 7.96l-1.37-1.37c-.4-.4-.92-.59-1.43-.59-.52 0-1.04.2-1.43.59L10.3 9.45l-7.72 7.72c-.78.78-.78 2.05 0 2.83L4 21.41c.39.39.9.59 1.41.59.51 0 1.02-.2 1.41-.59l7.78-7.78 2.81-2.81c.8-.78.8-2.07 0-2.86zM5.41 20L4 18.59l7.72-7.72 1.47 1.35L5.41 20z\"/>\n",
              "  </svg>\n",
              "      </button>\n",
              "      \n",
              "  <style>\n",
              "    .colab-df-container {\n",
              "      display:flex;\n",
              "      flex-wrap:wrap;\n",
              "      gap: 12px;\n",
              "    }\n",
              "\n",
              "    .colab-df-convert {\n",
              "      background-color: #E8F0FE;\n",
              "      border: none;\n",
              "      border-radius: 50%;\n",
              "      cursor: pointer;\n",
              "      display: none;\n",
              "      fill: #1967D2;\n",
              "      height: 32px;\n",
              "      padding: 0 0 0 0;\n",
              "      width: 32px;\n",
              "    }\n",
              "\n",
              "    .colab-df-convert:hover {\n",
              "      background-color: #E2EBFA;\n",
              "      box-shadow: 0px 1px 2px rgba(60, 64, 67, 0.3), 0px 1px 3px 1px rgba(60, 64, 67, 0.15);\n",
              "      fill: #174EA6;\n",
              "    }\n",
              "\n",
              "    [theme=dark] .colab-df-convert {\n",
              "      background-color: #3B4455;\n",
              "      fill: #D2E3FC;\n",
              "    }\n",
              "\n",
              "    [theme=dark] .colab-df-convert:hover {\n",
              "      background-color: #434B5C;\n",
              "      box-shadow: 0px 1px 3px 1px rgba(0, 0, 0, 0.15);\n",
              "      filter: drop-shadow(0px 1px 2px rgba(0, 0, 0, 0.3));\n",
              "      fill: #FFFFFF;\n",
              "    }\n",
              "  </style>\n",
              "\n",
              "      <script>\n",
              "        const buttonEl =\n",
              "          document.querySelector('#df-ade8b77b-250b-4c6a-b8b9-3ee4d3c29dbb button.colab-df-convert');\n",
              "        buttonEl.style.display =\n",
              "          google.colab.kernel.accessAllowed ? 'block' : 'none';\n",
              "\n",
              "        async function convertToInteractive(key) {\n",
              "          const element = document.querySelector('#df-ade8b77b-250b-4c6a-b8b9-3ee4d3c29dbb');\n",
              "          const dataTable =\n",
              "            await google.colab.kernel.invokeFunction('convertToInteractive',\n",
              "                                                     [key], {});\n",
              "          if (!dataTable) return;\n",
              "\n",
              "          const docLinkHtml = 'Like what you see? Visit the ' +\n",
              "            '<a target=\"_blank\" href=https://colab.research.google.com/notebooks/data_table.ipynb>data table notebook</a>'\n",
              "            + ' to learn more about interactive tables.';\n",
              "          element.innerHTML = '';\n",
              "          dataTable['output_type'] = 'display_data';\n",
              "          await google.colab.output.renderOutput(dataTable, element);\n",
              "          const docLink = document.createElement('div');\n",
              "          docLink.innerHTML = docLinkHtml;\n",
              "          element.appendChild(docLink);\n",
              "        }\n",
              "      </script>\n",
              "    </div>\n",
              "  </div>\n",
              "  "
            ]
          },
          "metadata": {},
          "execution_count": 44
        }
      ]
    },
    {
      "cell_type": "code",
      "source": [
        "#Checking the min and highest date in the training df\n",
        "df['date_time_of_pickup'].min(), df['date_time_of_pickup'].max()"
      ],
      "metadata": {
        "colab": {
          "base_uri": "https://localhost:8080/"
        },
        "id": "4iOUX1Vf82LS",
        "outputId": "d166d8e8-428b-42a5-e5b7-ad221ce29b5d"
      },
      "execution_count": null,
      "outputs": [
        {
          "output_type": "execute_result",
          "data": {
            "text/plain": [
              "(Timestamp('2009-01-01 17:07:00+0000', tz='UTC'),\n",
              " Timestamp('2015-06-24 07:43:40+0000', tz='UTC'))"
            ]
          },
          "metadata": {},
          "execution_count": 45
        }
      ]
    },
    {
      "cell_type": "code",
      "source": [
        "#info on the test set\n",
        "test_df.info()"
      ],
      "metadata": {
        "colab": {
          "base_uri": "https://localhost:8080/"
        },
        "id": "vd_k3ASG85va",
        "outputId": "d6a39e49-ef9d-4343-bfb2-224417296400"
      },
      "execution_count": null,
      "outputs": [
        {
          "output_type": "stream",
          "name": "stdout",
          "text": [
            "<class 'pandas.core.frame.DataFrame'>\n",
            "RangeIndex: 9914 entries, 0 to 9913\n",
            "Data columns (total 7 columns):\n",
            " #   Column                Non-Null Count  Dtype              \n",
            "---  ------                --------------  -----              \n",
            " 0   unique_id             9914 non-null   object             \n",
            " 1   date_time_of_pickup   9914 non-null   datetime64[ns, UTC]\n",
            " 2   longitude_of_pickup   9914 non-null   float64            \n",
            " 3   latitude_of_pickup    9914 non-null   float64            \n",
            " 4   longitude_of_dropoff  9914 non-null   float64            \n",
            " 5   latitude_of_dropoff   9914 non-null   float64            \n",
            " 6   no_of_passenger       9914 non-null   int64              \n",
            "dtypes: datetime64[ns, UTC](1), float64(4), int64(1), object(1)\n",
            "memory usage: 542.3+ KB\n"
          ]
        }
      ]
    },
    {
      "cell_type": "code",
      "source": [
        "#Statistical summary of the test data\n",
        "test_df.describe()"
      ],
      "metadata": {
        "colab": {
          "base_uri": "https://localhost:8080/",
          "height": 300
        },
        "id": "gb_nWCJO9CRY",
        "outputId": "d5be5ae4-3259-44a4-df56-1402be597345"
      },
      "execution_count": null,
      "outputs": [
        {
          "output_type": "execute_result",
          "data": {
            "text/plain": [
              "       longitude_of_pickup  latitude_of_pickup  longitude_of_dropoff  \\\n",
              "count          9914.000000         9914.000000           9914.000000   \n",
              "mean            -73.974722           40.751041            -73.973657   \n",
              "std               0.042774            0.033541              0.039072   \n",
              "min             -74.252193           40.573143            -74.263242   \n",
              "25%             -73.992501           40.736125            -73.991247   \n",
              "50%             -73.982326           40.753051            -73.980015   \n",
              "75%             -73.968013           40.767113            -73.964059   \n",
              "max             -72.986532           41.709555            -72.990963   \n",
              "\n",
              "       latitude_of_dropoff  no_of_passenger  \n",
              "count          9914.000000      9914.000000  \n",
              "mean             40.751743         1.671273  \n",
              "std               0.035435         1.278747  \n",
              "min              40.568973         1.000000  \n",
              "25%              40.735254         1.000000  \n",
              "50%              40.754065         1.000000  \n",
              "75%              40.768757         2.000000  \n",
              "max              41.696683         6.000000  "
            ],
            "text/html": [
              "\n",
              "  <div id=\"df-e8284964-16a8-44bc-9648-c03c9f218b22\">\n",
              "    <div class=\"colab-df-container\">\n",
              "      <div>\n",
              "<style scoped>\n",
              "    .dataframe tbody tr th:only-of-type {\n",
              "        vertical-align: middle;\n",
              "    }\n",
              "\n",
              "    .dataframe tbody tr th {\n",
              "        vertical-align: top;\n",
              "    }\n",
              "\n",
              "    .dataframe thead th {\n",
              "        text-align: right;\n",
              "    }\n",
              "</style>\n",
              "<table border=\"1\" class=\"dataframe\">\n",
              "  <thead>\n",
              "    <tr style=\"text-align: right;\">\n",
              "      <th></th>\n",
              "      <th>longitude_of_pickup</th>\n",
              "      <th>latitude_of_pickup</th>\n",
              "      <th>longitude_of_dropoff</th>\n",
              "      <th>latitude_of_dropoff</th>\n",
              "      <th>no_of_passenger</th>\n",
              "    </tr>\n",
              "  </thead>\n",
              "  <tbody>\n",
              "    <tr>\n",
              "      <th>count</th>\n",
              "      <td>9914.000000</td>\n",
              "      <td>9914.000000</td>\n",
              "      <td>9914.000000</td>\n",
              "      <td>9914.000000</td>\n",
              "      <td>9914.000000</td>\n",
              "    </tr>\n",
              "    <tr>\n",
              "      <th>mean</th>\n",
              "      <td>-73.974722</td>\n",
              "      <td>40.751041</td>\n",
              "      <td>-73.973657</td>\n",
              "      <td>40.751743</td>\n",
              "      <td>1.671273</td>\n",
              "    </tr>\n",
              "    <tr>\n",
              "      <th>std</th>\n",
              "      <td>0.042774</td>\n",
              "      <td>0.033541</td>\n",
              "      <td>0.039072</td>\n",
              "      <td>0.035435</td>\n",
              "      <td>1.278747</td>\n",
              "    </tr>\n",
              "    <tr>\n",
              "      <th>min</th>\n",
              "      <td>-74.252193</td>\n",
              "      <td>40.573143</td>\n",
              "      <td>-74.263242</td>\n",
              "      <td>40.568973</td>\n",
              "      <td>1.000000</td>\n",
              "    </tr>\n",
              "    <tr>\n",
              "      <th>25%</th>\n",
              "      <td>-73.992501</td>\n",
              "      <td>40.736125</td>\n",
              "      <td>-73.991247</td>\n",
              "      <td>40.735254</td>\n",
              "      <td>1.000000</td>\n",
              "    </tr>\n",
              "    <tr>\n",
              "      <th>50%</th>\n",
              "      <td>-73.982326</td>\n",
              "      <td>40.753051</td>\n",
              "      <td>-73.980015</td>\n",
              "      <td>40.754065</td>\n",
              "      <td>1.000000</td>\n",
              "    </tr>\n",
              "    <tr>\n",
              "      <th>75%</th>\n",
              "      <td>-73.968013</td>\n",
              "      <td>40.767113</td>\n",
              "      <td>-73.964059</td>\n",
              "      <td>40.768757</td>\n",
              "      <td>2.000000</td>\n",
              "    </tr>\n",
              "    <tr>\n",
              "      <th>max</th>\n",
              "      <td>-72.986532</td>\n",
              "      <td>41.709555</td>\n",
              "      <td>-72.990963</td>\n",
              "      <td>41.696683</td>\n",
              "      <td>6.000000</td>\n",
              "    </tr>\n",
              "  </tbody>\n",
              "</table>\n",
              "</div>\n",
              "      <button class=\"colab-df-convert\" onclick=\"convertToInteractive('df-e8284964-16a8-44bc-9648-c03c9f218b22')\"\n",
              "              title=\"Convert this dataframe to an interactive table.\"\n",
              "              style=\"display:none;\">\n",
              "        \n",
              "  <svg xmlns=\"http://www.w3.org/2000/svg\" height=\"24px\"viewBox=\"0 0 24 24\"\n",
              "       width=\"24px\">\n",
              "    <path d=\"M0 0h24v24H0V0z\" fill=\"none\"/>\n",
              "    <path d=\"M18.56 5.44l.94 2.06.94-2.06 2.06-.94-2.06-.94-.94-2.06-.94 2.06-2.06.94zm-11 1L8.5 8.5l.94-2.06 2.06-.94-2.06-.94L8.5 2.5l-.94 2.06-2.06.94zm10 10l.94 2.06.94-2.06 2.06-.94-2.06-.94-.94-2.06-.94 2.06-2.06.94z\"/><path d=\"M17.41 7.96l-1.37-1.37c-.4-.4-.92-.59-1.43-.59-.52 0-1.04.2-1.43.59L10.3 9.45l-7.72 7.72c-.78.78-.78 2.05 0 2.83L4 21.41c.39.39.9.59 1.41.59.51 0 1.02-.2 1.41-.59l7.78-7.78 2.81-2.81c.8-.78.8-2.07 0-2.86zM5.41 20L4 18.59l7.72-7.72 1.47 1.35L5.41 20z\"/>\n",
              "  </svg>\n",
              "      </button>\n",
              "      \n",
              "  <style>\n",
              "    .colab-df-container {\n",
              "      display:flex;\n",
              "      flex-wrap:wrap;\n",
              "      gap: 12px;\n",
              "    }\n",
              "\n",
              "    .colab-df-convert {\n",
              "      background-color: #E8F0FE;\n",
              "      border: none;\n",
              "      border-radius: 50%;\n",
              "      cursor: pointer;\n",
              "      display: none;\n",
              "      fill: #1967D2;\n",
              "      height: 32px;\n",
              "      padding: 0 0 0 0;\n",
              "      width: 32px;\n",
              "    }\n",
              "\n",
              "    .colab-df-convert:hover {\n",
              "      background-color: #E2EBFA;\n",
              "      box-shadow: 0px 1px 2px rgba(60, 64, 67, 0.3), 0px 1px 3px 1px rgba(60, 64, 67, 0.15);\n",
              "      fill: #174EA6;\n",
              "    }\n",
              "\n",
              "    [theme=dark] .colab-df-convert {\n",
              "      background-color: #3B4455;\n",
              "      fill: #D2E3FC;\n",
              "    }\n",
              "\n",
              "    [theme=dark] .colab-df-convert:hover {\n",
              "      background-color: #434B5C;\n",
              "      box-shadow: 0px 1px 3px 1px rgba(0, 0, 0, 0.15);\n",
              "      filter: drop-shadow(0px 1px 2px rgba(0, 0, 0, 0.3));\n",
              "      fill: #FFFFFF;\n",
              "    }\n",
              "  </style>\n",
              "\n",
              "      <script>\n",
              "        const buttonEl =\n",
              "          document.querySelector('#df-e8284964-16a8-44bc-9648-c03c9f218b22 button.colab-df-convert');\n",
              "        buttonEl.style.display =\n",
              "          google.colab.kernel.accessAllowed ? 'block' : 'none';\n",
              "\n",
              "        async function convertToInteractive(key) {\n",
              "          const element = document.querySelector('#df-e8284964-16a8-44bc-9648-c03c9f218b22');\n",
              "          const dataTable =\n",
              "            await google.colab.kernel.invokeFunction('convertToInteractive',\n",
              "                                                     [key], {});\n",
              "          if (!dataTable) return;\n",
              "\n",
              "          const docLinkHtml = 'Like what you see? Visit the ' +\n",
              "            '<a target=\"_blank\" href=https://colab.research.google.com/notebooks/data_table.ipynb>data table notebook</a>'\n",
              "            + ' to learn more about interactive tables.';\n",
              "          element.innerHTML = '';\n",
              "          dataTable['output_type'] = 'display_data';\n",
              "          await google.colab.output.renderOutput(dataTable, element);\n",
              "          const docLink = document.createElement('div');\n",
              "          docLink.innerHTML = docLinkHtml;\n",
              "          element.appendChild(docLink);\n",
              "        }\n",
              "      </script>\n",
              "    </div>\n",
              "  </div>\n",
              "  "
            ]
          },
          "metadata": {},
          "execution_count": 47
        }
      ]
    },
    {
      "cell_type": "code",
      "source": [
        "#Checking the min and highest date in the test df\n",
        "test_df['date_time_of_pickup'].min(), test_df['date_time_of_pickup'].max()"
      ],
      "metadata": {
        "colab": {
          "base_uri": "https://localhost:8080/"
        },
        "id": "RqyTNPP09LgY",
        "outputId": "40723af1-ec9d-4dad-da85-6f46914d2f61"
      },
      "execution_count": null,
      "outputs": [
        {
          "output_type": "execute_result",
          "data": {
            "text/plain": [
              "(Timestamp('2009-01-01 11:04:24+0000', tz='UTC'),\n",
              " Timestamp('2015-06-30 20:03:50+0000', tz='UTC'))"
            ]
          },
          "metadata": {},
          "execution_count": 48
        }
      ]
    },
    {
      "cell_type": "code",
      "source": [
        "#Viewing the colums in the df\n",
        "df.columns"
      ],
      "metadata": {
        "colab": {
          "base_uri": "https://localhost:8080/"
        },
        "id": "HGeSCYxT9zAi",
        "outputId": "71be5bd6-3337-4124-c48f-a2d5e99ed817"
      },
      "execution_count": null,
      "outputs": [
        {
          "output_type": "execute_result",
          "data": {
            "text/plain": [
              "Index(['unique_id', 'amount', 'date_time_of_pickup', 'longitude_of_pickup',\n",
              "       'latitude_of_pickup', 'longitude_of_dropoff', 'latitude_of_dropoff',\n",
              "       'no_of_passenger'],\n",
              "      dtype='object')"
            ]
          },
          "metadata": {},
          "execution_count": 49
        }
      ]
    },
    {
      "cell_type": "code",
      "source": [
        "#Dropping missng Values\n",
        "df = df.dropna()"
      ],
      "metadata": {
        "id": "MQmohsIS947_"
      },
      "execution_count": null,
      "outputs": []
    },
    {
      "cell_type": "code",
      "source": [
        "df.info()\n"
      ],
      "metadata": {
        "colab": {
          "base_uri": "https://localhost:8080/"
        },
        "id": "Tm1k9a4M97dF",
        "outputId": "cbf8d813-764e-4fb4-f459-0b6e34ae372c"
      },
      "execution_count": null,
      "outputs": [
        {
          "output_type": "stream",
          "name": "stdout",
          "text": [
            "<class 'pandas.core.frame.DataFrame'>\n",
            "RangeIndex: 506 entries, 0 to 505\n",
            "Data columns (total 8 columns):\n",
            " #   Column                Non-Null Count  Dtype              \n",
            "---  ------                --------------  -----              \n",
            " 0   unique_id             506 non-null    object             \n",
            " 1   amount                506 non-null    float64            \n",
            " 2   date_time_of_pickup   506 non-null    datetime64[ns, UTC]\n",
            " 3   longitude_of_pickup   506 non-null    float64            \n",
            " 4   latitude_of_pickup    506 non-null    float64            \n",
            " 5   longitude_of_dropoff  506 non-null    float64            \n",
            " 6   latitude_of_dropoff   506 non-null    float64            \n",
            " 7   no_of_passenger       506 non-null    int64              \n",
            "dtypes: datetime64[ns, UTC](1), float64(5), int64(1), object(1)\n",
            "memory usage: 31.8+ KB\n"
          ]
        }
      ]
    },
    {
      "cell_type": "code",
      "source": [
        "#Splitting the training data into features and labels\n",
        "X = df.drop(['unique_id', 'amount','date_time_of_pickup'], axis = 1)\n",
        "y = df['amount']"
      ],
      "metadata": {
        "id": "lso2pwcV99Sk"
      },
      "execution_count": null,
      "outputs": []
    },
    {
      "cell_type": "code",
      "source": [
        "#Subsetting the test data\n",
        "test = test_df.drop(['unique_id','date_time_of_pickup'], axis = 1)"
      ],
      "metadata": {
        "id": "Tl7ffv939_-c"
      },
      "execution_count": null,
      "outputs": []
    },
    {
      "cell_type": "code",
      "source": [
        "#Splitting the data into training and validation set\n",
        "X_train, X_val, y_train, y_val = train_test_split(X,y,test_size = 0.2, random_state = 92)"
      ],
      "metadata": {
        "id": "sVtdtLDb-Vxs"
      },
      "execution_count": null,
      "outputs": []
    },
    {
      "cell_type": "code",
      "source": [
        "#Validating the split\n",
        "print(X_train.shape, X_val.shape)\n",
        "print(y_train.shape, y_val.shape)"
      ],
      "metadata": {
        "colab": {
          "base_uri": "https://localhost:8080/"
        },
        "id": "d5g3cVca-ZWX",
        "outputId": "0d855c0a-0532-46e6-d960-7b89cc37fe6b"
      },
      "execution_count": null,
      "outputs": [
        {
          "output_type": "stream",
          "name": "stdout",
          "text": [
            "(404, 5) (102, 5)\n",
            "(404,) (102,)\n"
          ]
        }
      ]
    },
    {
      "cell_type": "code",
      "source": [
        "#Mean Regressor\n",
        "class MeanRegressor:\n",
        "    def fit(self, inputs, targets):\n",
        "        self.mean = targets.mean()\n",
        "\n",
        "    def predict(self, inputs):\n",
        "        return np.full(inputs.shape[0], self.mean)"
      ],
      "metadata": {
        "id": "F5AlGlyj-bZl"
      },
      "execution_count": null,
      "outputs": []
    },
    {
      "cell_type": "code",
      "source": [
        "#Instantiating the model\n",
        "mean_model = MeanRegressor()\n",
        "\n",
        "#Fitting the model to the input data\n",
        "mean_model.fit(X_train, y_train)\n",
        "\n",
        "#Predicting on the train data\n",
        "train_pred = mean_model.predict(X_train)\n",
        "\n",
        "#Predicting on the val data\n",
        "val_pred = mean_model.predict(X_val)"
      ],
      "metadata": {
        "id": "TrJiRvUg-edR"
      },
      "execution_count": null,
      "outputs": []
    },
    {
      "cell_type": "code",
      "source": [
        "#Defining the evaluation function\n",
        "\n",
        "def rmse(targets, pred):\n",
        "    return mean_squared_error(targets, pred, squared = False)"
      ],
      "metadata": {
        "id": "gJl-NADe-hhO"
      },
      "execution_count": null,
      "outputs": []
    },
    {
      "cell_type": "code",
      "source": [
        "#Train rmse\n",
        "train_rmse = rmse(y_train, train_pred)\n",
        "\n",
        "\n",
        "#Validation rmse\n",
        "val_rmse = rmse(y_val, val_pred)\n",
        "\n",
        "print(f\"The Root mean squared error of the baseline model on the train data is: {train_rmse}\")\n",
        "print(f\"The Root mean squared erorr of the baseline model on the val data is: {val_rmse}\")"
      ],
      "metadata": {
        "colab": {
          "base_uri": "https://localhost:8080/"
        },
        "id": "NmTy-Huy-j46",
        "outputId": "39f300e2-452f-42a2-c8cf-072cd00a9d95"
      },
      "execution_count": null,
      "outputs": [
        {
          "output_type": "stream",
          "name": "stdout",
          "text": [
            "The Root mean squared error of the baseline model on the train data is: 11.08865823551579\n",
            "The Root mean squared erorr of the baseline model on the val data is: 7.731058654074997\n"
          ]
        }
      ]
    },
    {
      "cell_type": "markdown",
      "source": [
        "Training a Linear Regression Model"
      ],
      "metadata": {
        "id": "8CB96HeR-sqV"
      }
    },
    {
      "cell_type": "code",
      "source": [
        "#Instantiating the model\n",
        "l_reg = LinearRegression()"
      ],
      "metadata": {
        "id": "PrDIttHL-nBT"
      },
      "execution_count": null,
      "outputs": []
    },
    {
      "cell_type": "code",
      "source": [
        "#Fitting the model to the train data\n",
        "l_reg.fit(X_train,y_train)\n",
        "\n",
        "#Making predictions on the train data\n",
        "train_pred = l_reg.predict(X_train)\n",
        "\n",
        "#Making predictions on the val data\n",
        "val_pred = l_reg.predict(X_val)"
      ],
      "metadata": {
        "id": "IzeZYo5T-rgQ"
      },
      "execution_count": null,
      "outputs": []
    },
    {
      "cell_type": "code",
      "source": [
        "#RMSE on the train prediction\n",
        "train_rmse = rmse(y_train, train_pred)\n",
        "\n",
        "#RMSE on the val prediction\n",
        "val_rmse = rmse(y_val, val_pred)\n",
        "\n",
        "print(f\"The RMSE of the model on the train data is: {train_rmse}\")\n",
        "print(f\"The RMSE of the model on the val data is: {val_rmse}\")"
      ],
      "metadata": {
        "colab": {
          "base_uri": "https://localhost:8080/"
        },
        "id": "AFgEL1tO-z4Q",
        "outputId": "a5cc2925-889d-4ee5-e7da-4dfb79e33d44"
      },
      "execution_count": null,
      "outputs": [
        {
          "output_type": "stream",
          "name": "stdout",
          "text": [
            "The RMSE of the model on the train data is: 10.214961705630069\n",
            "The RMSE of the model on the val data is: 44.171571939946055\n"
          ]
        }
      ]
    },
    {
      "cell_type": "code",
      "source": [
        "#Making predictions on the test data\n",
        "test_pred = l_reg.predict(test)"
      ],
      "metadata": {
        "id": "-3p6mvxh-2L1"
      },
      "execution_count": null,
      "outputs": []
    },
    {
      "cell_type": "code",
      "source": [
        "#Preparing the submission file\n",
        "sub_dir = 'https://raw.githubusercontent.com/sravani999999/taxi-fare-csv/main/sample_submission.csv'\n",
        "submission = pd.read_csv(sub_dir)\n",
        "\n",
        "#Viewing the file\n",
        "submission"
      ],
      "metadata": {
        "colab": {
          "base_uri": "https://localhost:8080/",
          "height": 423
        },
        "id": "3khWTCyx-4yJ",
        "outputId": "fc0f7a99-cfbf-4b10-e3b2-297229fb63c7"
      },
      "execution_count": null,
      "outputs": [
        {
          "output_type": "execute_result",
          "data": {
            "text/plain": [
              "     unique_id  amount\n",
              "0      08:24.0   11.35\n",
              "1      08:24.0   11.35\n",
              "2      53:44.0   11.35\n",
              "3      12:12.0   11.35\n",
              "4      12:12.0   11.35\n",
              "...        ...     ...\n",
              "9909   37:51.0   11.35\n",
              "9910   05:51.0   11.35\n",
              "9911   44:15.0   11.35\n",
              "9912   05:19.0   11.35\n",
              "9913   06:23.0   11.35\n",
              "\n",
              "[9914 rows x 2 columns]"
            ],
            "text/html": [
              "\n",
              "  <div id=\"df-6f991a23-de01-45b8-aff6-364d4a8f6325\">\n",
              "    <div class=\"colab-df-container\">\n",
              "      <div>\n",
              "<style scoped>\n",
              "    .dataframe tbody tr th:only-of-type {\n",
              "        vertical-align: middle;\n",
              "    }\n",
              "\n",
              "    .dataframe tbody tr th {\n",
              "        vertical-align: top;\n",
              "    }\n",
              "\n",
              "    .dataframe thead th {\n",
              "        text-align: right;\n",
              "    }\n",
              "</style>\n",
              "<table border=\"1\" class=\"dataframe\">\n",
              "  <thead>\n",
              "    <tr style=\"text-align: right;\">\n",
              "      <th></th>\n",
              "      <th>unique_id</th>\n",
              "      <th>amount</th>\n",
              "    </tr>\n",
              "  </thead>\n",
              "  <tbody>\n",
              "    <tr>\n",
              "      <th>0</th>\n",
              "      <td>08:24.0</td>\n",
              "      <td>11.35</td>\n",
              "    </tr>\n",
              "    <tr>\n",
              "      <th>1</th>\n",
              "      <td>08:24.0</td>\n",
              "      <td>11.35</td>\n",
              "    </tr>\n",
              "    <tr>\n",
              "      <th>2</th>\n",
              "      <td>53:44.0</td>\n",
              "      <td>11.35</td>\n",
              "    </tr>\n",
              "    <tr>\n",
              "      <th>3</th>\n",
              "      <td>12:12.0</td>\n",
              "      <td>11.35</td>\n",
              "    </tr>\n",
              "    <tr>\n",
              "      <th>4</th>\n",
              "      <td>12:12.0</td>\n",
              "      <td>11.35</td>\n",
              "    </tr>\n",
              "    <tr>\n",
              "      <th>...</th>\n",
              "      <td>...</td>\n",
              "      <td>...</td>\n",
              "    </tr>\n",
              "    <tr>\n",
              "      <th>9909</th>\n",
              "      <td>37:51.0</td>\n",
              "      <td>11.35</td>\n",
              "    </tr>\n",
              "    <tr>\n",
              "      <th>9910</th>\n",
              "      <td>05:51.0</td>\n",
              "      <td>11.35</td>\n",
              "    </tr>\n",
              "    <tr>\n",
              "      <th>9911</th>\n",
              "      <td>44:15.0</td>\n",
              "      <td>11.35</td>\n",
              "    </tr>\n",
              "    <tr>\n",
              "      <th>9912</th>\n",
              "      <td>05:19.0</td>\n",
              "      <td>11.35</td>\n",
              "    </tr>\n",
              "    <tr>\n",
              "      <th>9913</th>\n",
              "      <td>06:23.0</td>\n",
              "      <td>11.35</td>\n",
              "    </tr>\n",
              "  </tbody>\n",
              "</table>\n",
              "<p>9914 rows × 2 columns</p>\n",
              "</div>\n",
              "      <button class=\"colab-df-convert\" onclick=\"convertToInteractive('df-6f991a23-de01-45b8-aff6-364d4a8f6325')\"\n",
              "              title=\"Convert this dataframe to an interactive table.\"\n",
              "              style=\"display:none;\">\n",
              "        \n",
              "  <svg xmlns=\"http://www.w3.org/2000/svg\" height=\"24px\"viewBox=\"0 0 24 24\"\n",
              "       width=\"24px\">\n",
              "    <path d=\"M0 0h24v24H0V0z\" fill=\"none\"/>\n",
              "    <path d=\"M18.56 5.44l.94 2.06.94-2.06 2.06-.94-2.06-.94-.94-2.06-.94 2.06-2.06.94zm-11 1L8.5 8.5l.94-2.06 2.06-.94-2.06-.94L8.5 2.5l-.94 2.06-2.06.94zm10 10l.94 2.06.94-2.06 2.06-.94-2.06-.94-.94-2.06-.94 2.06-2.06.94z\"/><path d=\"M17.41 7.96l-1.37-1.37c-.4-.4-.92-.59-1.43-.59-.52 0-1.04.2-1.43.59L10.3 9.45l-7.72 7.72c-.78.78-.78 2.05 0 2.83L4 21.41c.39.39.9.59 1.41.59.51 0 1.02-.2 1.41-.59l7.78-7.78 2.81-2.81c.8-.78.8-2.07 0-2.86zM5.41 20L4 18.59l7.72-7.72 1.47 1.35L5.41 20z\"/>\n",
              "  </svg>\n",
              "      </button>\n",
              "      \n",
              "  <style>\n",
              "    .colab-df-container {\n",
              "      display:flex;\n",
              "      flex-wrap:wrap;\n",
              "      gap: 12px;\n",
              "    }\n",
              "\n",
              "    .colab-df-convert {\n",
              "      background-color: #E8F0FE;\n",
              "      border: none;\n",
              "      border-radius: 50%;\n",
              "      cursor: pointer;\n",
              "      display: none;\n",
              "      fill: #1967D2;\n",
              "      height: 32px;\n",
              "      padding: 0 0 0 0;\n",
              "      width: 32px;\n",
              "    }\n",
              "\n",
              "    .colab-df-convert:hover {\n",
              "      background-color: #E2EBFA;\n",
              "      box-shadow: 0px 1px 2px rgba(60, 64, 67, 0.3), 0px 1px 3px 1px rgba(60, 64, 67, 0.15);\n",
              "      fill: #174EA6;\n",
              "    }\n",
              "\n",
              "    [theme=dark] .colab-df-convert {\n",
              "      background-color: #3B4455;\n",
              "      fill: #D2E3FC;\n",
              "    }\n",
              "\n",
              "    [theme=dark] .colab-df-convert:hover {\n",
              "      background-color: #434B5C;\n",
              "      box-shadow: 0px 1px 3px 1px rgba(0, 0, 0, 0.15);\n",
              "      filter: drop-shadow(0px 1px 2px rgba(0, 0, 0, 0.3));\n",
              "      fill: #FFFFFF;\n",
              "    }\n",
              "  </style>\n",
              "\n",
              "      <script>\n",
              "        const buttonEl =\n",
              "          document.querySelector('#df-6f991a23-de01-45b8-aff6-364d4a8f6325 button.colab-df-convert');\n",
              "        buttonEl.style.display =\n",
              "          google.colab.kernel.accessAllowed ? 'block' : 'none';\n",
              "\n",
              "        async function convertToInteractive(key) {\n",
              "          const element = document.querySelector('#df-6f991a23-de01-45b8-aff6-364d4a8f6325');\n",
              "          const dataTable =\n",
              "            await google.colab.kernel.invokeFunction('convertToInteractive',\n",
              "                                                     [key], {});\n",
              "          if (!dataTable) return;\n",
              "\n",
              "          const docLinkHtml = 'Like what you see? Visit the ' +\n",
              "            '<a target=\"_blank\" href=https://colab.research.google.com/notebooks/data_table.ipynb>data table notebook</a>'\n",
              "            + ' to learn more about interactive tables.';\n",
              "          element.innerHTML = '';\n",
              "          dataTable['output_type'] = 'display_data';\n",
              "          await google.colab.output.renderOutput(dataTable, element);\n",
              "          const docLink = document.createElement('div');\n",
              "          docLink.innerHTML = docLinkHtml;\n",
              "          element.appendChild(docLink);\n",
              "        }\n",
              "      </script>\n",
              "    </div>\n",
              "  </div>\n",
              "  "
            ]
          },
          "metadata": {},
          "execution_count": 64
        }
      ]
    },
    {
      "cell_type": "code",
      "source": [
        "#Subtituting the values\n",
        "submission['fare_amount'] = test_pred"
      ],
      "metadata": {
        "id": "tNAq85p8Bz0J"
      },
      "execution_count": null,
      "outputs": []
    },
    {
      "cell_type": "code",
      "source": [
        "#Saving the file to csv\n",
        "submission.to_csv('1st_submission.csv', index = None)"
      ],
      "metadata": {
        "id": "Ch8UMHPSB4vQ"
      },
      "execution_count": null,
      "outputs": []
    },
    {
      "cell_type": "code",
      "source": [
        "#Defining a function for predicting and saving the submission file\n",
        "def make_predictions_and_submit(model, test_input, file_name):\n",
        "    test_pred = model.predict(test_input)\n",
        "    sub_df = pd.read_csv(sub_dir)\n",
        "    sub_df['amount'] = test_pred\n",
        "    sub_df.to_csv(file_name, index = None)\n",
        "    return sub_df"
      ],
      "metadata": {
        "id": "uDKdYZNdB6z4"
      },
      "execution_count": null,
      "outputs": []
    },
    {
      "cell_type": "code",
      "source": [
        "import pandas as pd\n",
        "\n",
        "# Read the CSV file into a pandas dataframe\n",
        "submission = pd.read_csv('1st_submission.csv')\n",
        "\n",
        "# View the first few rows of the dataframe\n",
        "print(submission.head())\n"
      ],
      "metadata": {
        "colab": {
          "base_uri": "https://localhost:8080/"
        },
        "id": "ifuJwc-fVve1",
        "outputId": "4a7aa2fb-e8a7-407b-ad0d-5529075c8a7b"
      },
      "execution_count": null,
      "outputs": [
        {
          "output_type": "stream",
          "name": "stdout",
          "text": [
            "  unique_id  amount  fare_amount\n",
            "0   08:24.0   11.35    12.323274\n",
            "1   08:24.0   11.35     5.903753\n",
            "2   53:44.0   11.35    10.289392\n",
            "3   12:12.0   11.35    12.303971\n",
            "4   12:12.0   11.35    15.830014\n"
          ]
        }
      ]
    },
    {
      "cell_type": "code",
      "source": [
        "print(submission)"
      ],
      "metadata": {
        "colab": {
          "base_uri": "https://localhost:8080/"
        },
        "id": "FdfT0SfBYcVT",
        "outputId": "20e25301-5338-4bac-a0f3-1763ed0347b8"
      },
      "execution_count": null,
      "outputs": [
        {
          "output_type": "stream",
          "name": "stdout",
          "text": [
            "     unique_id  amount  fare_amount\n",
            "0      08:24.0   11.35    12.323274\n",
            "1      08:24.0   11.35     5.903753\n",
            "2      53:44.0   11.35    10.289392\n",
            "3      12:12.0   11.35    12.303971\n",
            "4      12:12.0   11.35    15.830014\n",
            "...        ...     ...          ...\n",
            "9909   37:51.0   11.35    15.369402\n",
            "9910   05:51.0   11.35    17.453056\n",
            "9911   44:15.0   11.35     6.032419\n",
            "9912   05:19.0   11.35     7.244756\n",
            "9913   06:23.0   11.35     8.300591\n",
            "\n",
            "[9914 rows x 3 columns]\n"
          ]
        }
      ]
    },
    {
      "cell_type": "code",
      "source": [],
      "metadata": {
        "id": "ndGsr7HeYfiB"
      },
      "execution_count": null,
      "outputs": []
    }
  ]
}